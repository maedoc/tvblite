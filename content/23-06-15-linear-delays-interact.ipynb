{
  "metadata": {
    "language_info": {
      "codemirror_mode": {
        "name": "python",
        "version": 3
      },
      "file_extension": ".py",
      "mimetype": "text/x-python",
      "name": "python",
      "nbconvert_exporter": "python",
      "pygments_lexer": "ipython3",
      "version": "3.8"
    },
    "kernelspec": {
      "name": "python",
      "display_name": "Python (Pyodide)",
      "language": "python"
    }
  },
  "nbformat_minor": 4,
  "nbformat": 4,
  "cells": [
    {
      "cell_type": "code",
      "source": "import piplite\nawait piplite.install([\"ipywidgets\", \"bqplot\", \"plotly\"])",
      "metadata": {
        "trusted": true
      },
      "execution_count": 2,
      "outputs": []
    },
    {
      "cell_type": "code",
      "source": "import ipywidgets",
      "metadata": {
        "trusted": true
      },
      "execution_count": 3,
      "outputs": []
    },
    {
      "cell_type": "code",
      "source": "#%pylab inline\nimport ipywidgets as widgets\nfrom ipywidgets import HBox, VBox\nimport numpy as np\nimport matplotlib.pyplot as plt\nfrom IPython.display import display",
      "metadata": {
        "trusted": true
      },
      "execution_count": 4,
      "outputs": []
    },
    {
      "cell_type": "code",
      "source": "T = 1000\ndt = 0.1\nfigs = []\n\n@widgets.interact(log_λ=(-4.0,1.0), D=(5,120), log_σ=(-3.0, 1.0), log_k=(-3.0,2.0))\ndef run(log_λ=0.0, D=100, log_σ=0.0, log_k=0.0, stochastic=True):\n    λ = np.exp(log_λ)\n    k = np.exp(log_k)\n    if stochastic:\n        z = np.sqrt(dt)*np.random.randn(2,T)*np.exp(log_σ)\n    x, y = 1.0, 0.0\n    xs, ys = [], []\n    for i in range(T):\n        dx = -λ*x - y\n        dy = -λ*y + x\n        if i > D:\n            dx -= k*ys[i-D]\n        x = x + dt*dx + (z[0,i] if stochastic else 0.0)\n        y = y + dt*dy + (z[1,i] if stochastic else 0.0)\n        xs.append(x)\n        ys.append(y)\n    xy = np.array([xs,ys]).T\n\n    L = np.zeros((2+D, 2+D), 'f') # x, y, y history\n    L[0,0] = 1.0 + dt*(-λ)  # x -> x\n    L[0,1] = dt*(-1)  # y -> x\n    L[0,-1] = dt*(-k) # y(t-D) -> x\n    L[1,0] = dt # x -> y\n    L[1,1] = 1.0 + dt*(-λ) # y -> y\n    for i in range(D):\n        #L[2+i,2+i] = -1.0\n        L[2+i,1+i] = 1.0\n    \n    \n    fig, ax = plt.subplots(2,2, figsize=(15,9));\n    ax[0,0].plot(xy); ax[0,0].grid(1); #ax[0,0].set_ylim([-5,5]); ax[0,0].axvline(D, color='g')\n    ax[0,1].imshow(L)\n    e,v = np.linalg.eig(L); print(np.abs(e.real)[:4])\n    ax[1,0].plot(e.real, 'k');    ax[1,0].plot(e.imag, 'r'); ax[1,0].grid(1)\n    ax[1,1].plot(np.abs(e)); ax[1,1].grid(1); ax[1,1].axhline(1.0, color='r')\n    plt.show()\n    figs.append(fig)\n    if len(figs)>2:\n        plt.close(figs[0])\n        del figs[0]",
      "metadata": {
        "trusted": true
      },
      "execution_count": 14,
      "outputs": [
        {
          "output_type": "display_data",
          "data": {
            "text/plain": "interactive(children=(FloatSlider(value=0.0, description='log_λ', max=1.0, min=-4.0), IntSlider(value=100, des…",
            "application/vnd.jupyter.widget-view+json": {
              "version_major": 2,
              "version_minor": 0,
              "model_id": "f731f8e7e28241bb99628ece541020a8"
            }
          },
          "metadata": {}
        }
      ]
    },
    {
      "cell_type": "code",
      "source": "",
      "metadata": {},
      "execution_count": null,
      "outputs": []
    }
  ]
}